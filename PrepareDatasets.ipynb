{
 "cells": [
  {
   "cell_type": "code",
   "execution_count": 3,
   "metadata": {},
   "outputs": [],
   "source": [
    "import torch\n",
    "from torch import nn\n",
    "\n",
    "from train import train, get_weighted_single_eval_pos_sampler\n",
    "import priors\n",
    "import utils\n",
    "\n",
    "import matplotlib.pyplot as plt\n",
    "import numpy as np\n",
    "import openml\n",
    "import pandas as pd\n",
    "\n",
    "import openml\n",
    "import pandas as pd"
   ]
  },
  {
   "cell_type": "code",
   "execution_count": 4,
   "metadata": {},
   "outputs": [],
   "source": [
    "import pickle\n",
    "from tqdm import tqdm\n",
    "import os\n",
    "import random\n",
    "\n",
    "from datasets import load_openml_list, valid_dids_classification, test_dids_classification, valid_large_classification, open_cc_dids, open_cc_valid_dids\n",
    "from priors.utils import trunc_norm_sampler_f, beta_sampler_f, gamma_sampler_f, uniform_sampler_f, zipf_sampler_f, scaled_beta_sampler_f, uniform_int_sampler_f, plot_prior\n"
   ]
  },
  {
   "cell_type": "code",
   "execution_count": 5,
   "metadata": {},
   "outputs": [],
   "source": [
    "from model_builder import get_meta_gp_prior_hyperparameters, get_gp_prior_hyperparameters, get_model, get_default_spec, save_model, load_model\n",
    "import priors\n",
    "from priors.utils import order_by_y, normalize_by_used_features_f, plot_prior, plot_features\n",
    "from utils import normalize_data\n"
   ]
  },
  {
   "cell_type": "code",
   "execution_count": 6,
   "metadata": {},
   "outputs": [],
   "source": [
    "%load_ext autoreload\n",
    "\n",
    "%autoreload 2"
   ]
  },
  {
   "cell_type": "markdown",
   "metadata": {
    "tags": []
   },
   "source": [
    "### Prepare test datasets"
   ]
  },
  {
   "cell_type": "code",
   "execution_count": 11,
   "metadata": {},
   "outputs": [],
   "source": [
    "renamer = {'name': 'Name', 'NumberOfFeatures': '# Features', 'NumberOfSymbolicFeatures': '# Categorical Features', 'NumberOfInstances': '# Instances', 'NumberOfMissingValues': '# NaNs', 'NumberOfClasses': '# Classes', 'MinorityClassSize': 'Minority Class Size'}\n"
   ]
  },
  {
   "cell_type": "code",
   "execution_count": 5,
   "metadata": {},
   "outputs": [
    {
     "data": {
      "text/plain": [
       "OrderedDict([(99,\n",
       "              {'id': 99,\n",
       "               'alias': 'OpenML-CC18',\n",
       "               'main_entity_type': 'task',\n",
       "               'name': 'OpenML-CC18 Curated Classification benchmark',\n",
       "               'status': 'active',\n",
       "               'creation_date': '2019-02-21 18:47:13',\n",
       "               'creator': 1}),\n",
       "             (225,\n",
       "              {'id': 225,\n",
       "               'alias': 'OpenML-friendly',\n",
       "               'main_entity_type': 'task',\n",
       "               'name': 'OpenML100-friendly',\n",
       "               'status': 'active',\n",
       "               'creation_date': '2019-09-16 19:41:46',\n",
       "               'creator': 1})])"
      ]
     },
     "execution_count": 5,
     "metadata": {},
     "output_type": "execute_result"
    }
   ],
   "source": [
    "openml.study.list_suites()"
   ]
  },
  {
   "cell_type": "code",
   "execution_count": 6,
   "metadata": {},
   "outputs": [],
   "source": [
    "suite = openml.study.get_suite(suite_id=99)\n",
    "tasks = openml.tasks.list_tasks(output_format=\"dataframe\")"
   ]
  },
  {
   "cell_type": "code",
   "execution_count": 7,
   "metadata": {},
   "outputs": [],
   "source": [
    "# Using ``@`` in `pd.DataFrame.query <\n",
    "# https://pandas.pydata.org/pandas-docs/stable/reference/api/pandas.DataFrame.query.html>`_\n",
    "# accesses variables outside of the current dataframe.\n",
    "tasks = tasks.query(\"tid in @suite.tasks\")"
   ]
  },
  {
   "cell_type": "code",
   "execution_count": 8,
   "metadata": {},
   "outputs": [],
   "source": [
    "tids = list(tasks[np.logical_and(np.logical_and((tasks.NumberOfInstances <= 2000), (tasks.NumberOfFeatures <= 100))\n",
    "                                 , (tasks.NumberOfClasses <= 10))].tid)"
   ]
  },
  {
   "cell_type": "code",
   "execution_count": 12,
   "metadata": {},
   "outputs": [
    {
     "data": {
      "text/plain": [
       "35"
      ]
     },
     "execution_count": 12,
     "metadata": {},
     "output_type": "execute_result"
    }
   ],
   "source": [
    "len(tids)"
   ]
  },
  {
   "cell_type": "code",
   "execution_count": 11,
   "metadata": {},
   "outputs": [],
   "source": [
    "tids = list(tasks[tasks.NumberOfInstances <= 2000].tid)"
   ]
  },
  {
   "cell_type": "code",
   "execution_count": 85,
   "metadata": {},
   "outputs": [
    {
     "ename": "NameError",
     "evalue": "name 'tids' is not defined",
     "output_type": "error",
     "traceback": [
      "\u001b[0;31m---------------------------------------------------------------------------\u001b[0m",
      "\u001b[0;31mNameError\u001b[0m                                 Traceback (most recent call last)",
      "\u001b[0;32m/tmp/ipykernel_961357/3064053182.py\u001b[0m in \u001b[0;36m<module>\u001b[0;34m\u001b[0m\n\u001b[0;32m----> 1\u001b[0;31m \u001b[0mopenmlcc18compatible_tids\u001b[0m \u001b[0;34m=\u001b[0m \u001b[0;34m[\u001b[0m\u001b[0mopenml\u001b[0m\u001b[0;34m.\u001b[0m\u001b[0mtasks\u001b[0m\u001b[0;34m.\u001b[0m\u001b[0mget_task\u001b[0m\u001b[0;34m(\u001b[0m\u001b[0mtask_id\u001b[0m\u001b[0;34m)\u001b[0m\u001b[0;34m.\u001b[0m\u001b[0mget_dataset\u001b[0m\u001b[0;34m(\u001b[0m\u001b[0;34m)\u001b[0m\u001b[0;34m.\u001b[0m\u001b[0mid\u001b[0m \u001b[0;32mfor\u001b[0m \u001b[0mtask_id\u001b[0m \u001b[0;32min\u001b[0m \u001b[0mtids\u001b[0m\u001b[0;34m]\u001b[0m\u001b[0;34m\u001b[0m\u001b[0;34m\u001b[0m\u001b[0m\n\u001b[0m",
      "\u001b[0;31mNameError\u001b[0m: name 'tids' is not defined"
     ]
    }
   ],
   "source": [
    "open_cc_dids = [openml.tasks.get_task(task_id).get_dataset().id for task_id in tids]"
   ]
  },
  {
   "cell_type": "code",
   "execution_count": 7,
   "metadata": {},
   "outputs": [
    {
     "name": "stdout",
     "output_type": "stream",
     "text": [
      "Number of datasets: 36\n",
      "Loading kr-vs-kp 3 ..\n",
      "Loading mfeat-factors 12 ..\n",
      "Loading credit-g 31 ..\n",
      "Loading vehicle 54 ..\n",
      "Loading wine 973 ..\n",
      "Loading kc1 1067 ..\n",
      "Loading KDDCup09_appetency 1111 ..\n",
      "Loading airlines 1169 ..\n",
      "Loading bank-marketing 1461 ..\n",
      "Loading blood-transfusion-service-center 1464 ..\n",
      "Loading cnae-9 1468 ..\n",
      "Loading nomao 1486 ..\n",
      "Loading phoneme 1489 ..\n",
      "Loading adult 1590 ..\n",
      "Loading covertype 1596 ..\n",
      "Loading numerai28.6 23517 ..\n",
      "Loading connect-4 40668 ..\n",
      "Loading car 40975 ..\n",
      "Loading Australian 40981 ..\n",
      "Loading segment 40984 ..\n",
      "Loading jungle_chess_2pcs_raw_endgame_complete 41027 ..\n",
      "Loading APSFailure 41138 ..\n",
      "Loading christine 41142 ..\n",
      "Loading jasmine 41143 ..\n",
      "Loading sylvine 41146 ..\n",
      "Loading albert 41147 ..\n",
      "Loading MiniBooNE 41150 ..\n",
      "Loading guillermo 41159 ..\n",
      "Loading riccardo 41161 ..\n",
      "Loading dilbert 41163 ..\n",
      "Loading fabert 41164 ..\n",
      "Loading robert 41165 ..\n",
      "Loading volkert 41166 ..\n",
      "Loading dionis 41167 ..\n",
      "Loading jannis 41168 ..\n",
      "Loading helena 41169 ..\n"
     ]
    }
   ],
   "source": [
    "open_ml_datasets, open_ml_datasets_df = load_openml_list(test_dids_classification, multiclass=True, shuffled=True, filter_for_nan=False, max_samples = 100000, num_feats=100, return_capped=True)\n"
   ]
  },
  {
   "cell_type": "code",
   "execution_count": 8,
   "metadata": {},
   "outputs": [],
   "source": [
    "open_ml_datasets_df = open_ml_datasets_df[open_ml_datasets_df.NumberOfInstances > 10000]"
   ]
  },
  {
   "cell_type": "code",
   "execution_count": 12,
   "metadata": {},
   "outputs": [
    {
     "name": "stdout",
     "output_type": "stream",
     "text": [
      "\\begin{tabular}{lrrrrrrr}\n",
      "\\toprule\n",
      "                                  Name &  \\# Features &  \\# Categorical Features &  \\# Instances &  \\# Classes &  \\# NaNs &  Minority Class Size &    id \\\\\n",
      "\\midrule\n",
      "                    KDDCup09\\_appetency &         231 &                      39 &        50000 &          2 & 8024152 &                  890 &  1111 \\\\\n",
      "                              airlines &           8 &                       5 &       539383 &          2 &       0 &               240264 &  1169 \\\\\n",
      "                        bank-marketing &          17 &                      10 &        45211 &          2 &       0 &                 5289 &  1461 \\\\\n",
      "                                 nomao &         119 &                      30 &        34465 &          2 &       0 &                 9844 &  1486 \\\\\n",
      "                                 adult &          15 &                       9 &        48842 &          2 &    6465 &                11687 &  1590 \\\\\n",
      "                             covertype &          55 &                      45 &       581012 &          7 &       0 &                 2747 &  1596 \\\\\n",
      "                           numerai28.6 &          22 &                       1 &        96320 &          2 &       0 &                47662 & 23517 \\\\\n",
      "                             connect-4 &          43 &                      43 &        67557 &          3 &       0 &                 6449 & 40668 \\\\\n",
      "jungle\\_chess\\_2pcs\\_raw\\_endgame\\_complete &           7 &                       1 &        44819 &          3 &       0 &                 4335 & 41027 \\\\\n",
      "                            APSFailure &         171 &                       1 &        76000 &          2 & 1078695 &                 1375 & 41138 \\\\\n",
      "                                albert &          79 &                      53 &       425240 &          2 & 2734000 &               212620 & 41147 \\\\\n",
      "                             MiniBooNE &          51 &                       1 &       130064 &          2 &       0 &                36499 & 41150 \\\\\n",
      "                             guillermo &        4297 &                       1 &        20000 &          2 &       0 &                 8003 & 41159 \\\\\n",
      "                              riccardo &        4297 &                       1 &        20000 &          2 &       0 &                 5000 & 41161 \\\\\n",
      "                               volkert &         181 &                       1 &        58310 &         10 &       0 &                 1361 & 41166 \\\\\n",
      "                                dionis &          61 &                       1 &       416188 &        355 &       0 &                  878 & 41167 \\\\\n",
      "                                jannis &          55 &                       1 &        83733 &          4 &       0 &                 1687 & 41168 \\\\\n",
      "                                helena &          28 &                       1 &        65196 &        100 &       0 &                  111 & 41169 \\\\\n",
      "\\bottomrule\n",
      "\\end{tabular}\n",
      "\n"
     ]
    }
   ],
   "source": [
    "print_table = open_ml_datasets_df\n",
    "print_table = print_table[['name', 'NumberOfFeatures', 'NumberOfSymbolicFeatures', 'NumberOfInstances', 'NumberOfClasses', 'NumberOfMissingValues', 'MinorityClassSize']].copy()\n",
    "print_table['id'] = print_table.index\n",
    "print_table[['NumberOfFeatures', 'NumberOfSymbolicFeatures', 'NumberOfInstances', 'NumberOfClasses', 'NumberOfMissingValues', 'MinorityClassSize']] = print_table[['NumberOfFeatures', 'NumberOfSymbolicFeatures', 'NumberOfInstances', 'NumberOfClasses', 'NumberOfMissingValues', 'MinorityClassSize']].astype(int)\n",
    "print_table = print_table.rename(columns=renamer)\n",
    "print(print_table.to_latex(index=False))"
   ]
  },
  {
   "cell_type": "markdown",
   "metadata": {
    "tags": []
   },
   "source": [
    "### Prepare Validation datasets"
   ]
  },
  {
   "cell_type": "code",
   "execution_count": 184,
   "metadata": {},
   "outputs": [
    {
     "name": "stderr",
     "output_type": "stream",
     "text": [
      "100%|██████████| 1101/1101 [00:06<00:00, 178.60it/s]\n"
     ]
    }
   ],
   "source": [
    "open_cc_datasets, open_cc_datasets_df = load_openml_list(open_cc_dids, multiclass=True, shuffled=True, filter_for_nan=False, max_samples = 2000, num_feats=100, return_capped=True)\n",
    "\n",
    "def extend_datasets(datasets, filtering = False):\n",
    "    extended_datasets = {}\n",
    "    i = 0\n",
    "    for d in tqdm(datasets):\n",
    "        if ((not 'NumberOfFeatures' in datasets[d])\n",
    "                or (not 'NumberOfClasses' in datasets[d])\n",
    "                or (not 'NumberOfInstances' in datasets[d])\n",
    "                # or datasets[d]['NumberOfFeatures'] >= num_feats\n",
    "                or datasets[d]['NumberOfClasses'] <= 0):\n",
    "            print(datasets[d])\n",
    "            continue\n",
    "        ds = openml.datasets.get_dataset(d, download_data=False)\n",
    "        if filtering and (datasets[d]['NumberOfInstances'] < 150\n",
    "                          or datasets[d]['NumberOfInstances'] > 2000\n",
    "                         or datasets[d]['NumberOfFeatures'] > 100\n",
    "                         or datasets[d]['NumberOfClasses'] > 10):\n",
    "            continue\n",
    "        extended_datasets[d] = datasets[d]\n",
    "        extended_datasets[d].update(ds.qualities)\n",
    "    \n",
    "    return extended_datasets\n",
    "\n",
    "# All datasets\n",
    "openml_list = openml.datasets.list_datasets()\n",
    "openml_list = pd.DataFrame.from_dict(openml_list, orient=\"index\")\n",
    "\n",
    "# Select only classification\n",
    "openml_list = openml_list[~openml_list['MajorityClassSize'].isna()]\n",
    "\n",
    "# Remove duplicated datasets\n",
    "duplicated = openml_list.duplicated(subset=['MajorityClassSize', 'MaxNominalAttDistinctValues', 'MinorityClassSize',\n",
    "       'NumberOfClasses', 'NumberOfFeatures', 'NumberOfInstances',\n",
    "       'NumberOfInstancesWithMissingValues', 'NumberOfMissingValues',\n",
    "       'NumberOfNumericFeatures', 'NumberOfSymbolicFeatures'], keep='first')\n",
    "openml_list = openml_list[~duplicated]\n",
    "\n",
    "duplicated = openml_list.duplicated(subset=['name'], keep='first')\n",
    "openml_list = openml_list[~duplicated]\n",
    "\n",
    "# Filter out datasets that don't have meta information or Don't fulfill other criteria\n",
    "openml_list = openml_list.to_dict(orient='index')\n",
    "openml_list = pd.DataFrame.from_dict(extend_datasets(openml_list, filtering=True), orient=\"index\")\n",
    "\n",
    "# Filter out datasets in Open CC\n",
    "openml_list = openml_list[~openml_list.name.apply(lambda x: x in test_datasets_multiclass_df.name.values)]\n",
    "openml_list['CFI'] = openml_list.apply(lambda x: str(x.NumberOfClasses) + '_' + str(x.NumberOfFeatures) + '_' + str(x.NumberOfInstances), axis = 1)\n",
    "test_datasets_multiclass_df['CFI'] = test_datasets_multiclass_df.apply(lambda x: str(x.NumberOfClasses) + '_' + str(x.NumberOfFeatures) + '_' + str(x.NumberOfInstances), axis = 1)\n",
    "openml_list = openml_list[~openml_list.CFI.apply(lambda x: x in test_datasets_multiclass_df.CFI.values)]\n",
    "\n",
    "# Remove time series and artificial data\n",
    "openml_list = openml_list[~openml_list.name.apply(lambda x: 'autoUniv' in x)]\n",
    "openml_list = openml_list[~openml_list.name.apply(lambda x: 'fri_' in x)]\n",
    "openml_list = openml_list[~openml_list.name.apply(lambda x: 'FOREX' in x)]\n",
    "\n",
    "# Remove datasets that overlapped with Open CC closely by name\n",
    "openml_list = openml_list[~openml_list.name.apply(lambda x: 'ilpd' in x)]\n",
    "openml_list = openml_list[~openml_list.name.apply(lambda x: 'car' in x)]\n",
    "openml_list = openml_list[~openml_list.name.apply(lambda x: 'pc1' in x)]\n",
    "\n",
    "# Remove datasets that didn't load\n",
    "openml_list = openml_list[~openml_list.did.apply(lambda x: x in {1065, 40589, 41496, 770, 43097, 43148, 43255, 43595, 43786, 41701})]\n",
    "\n",
    "# Remove class skew\n",
    "openml_list = openml_list[(openml_list.MinorityClassSize / openml_list.MajorityClassSize) > 0.05]\n",
    "openml_list = openml_list[openml_list.AutoCorrelation != 1]\n",
    "\n",
    "# Remove too easy\n",
    "openml_list = openml_list[openml_list.CfsSubsetEval_DecisionStumpAUC != 1]"
   ]
  },
  {
   "cell_type": "code",
   "execution_count": null,
   "metadata": {},
   "outputs": [
    {
     "name": "stdout",
     "output_type": "stream",
     "text": [
      "\\begin{tabular}{lrrrrrrr}\n",
      "\\toprule\n",
      "                                            Name &  \\# Features &  \\# Categorical Features &  \\# Instances &  \\# Classes &  \\# NaNs &  Minority Class Size &    id \\\\\n",
      "\\midrule\n",
      "                                   breast-cancer &          10 &                      10 &          286 &          2 &       9 &                   85 &    13 \\\\\n",
      "                                           colic &          27 &                      20 &          368 &          2 &    1927 &                  136 &    25 \\\\\n",
      "                                     dermatology &          35 &                      34 &          366 &          6 &       8 &                   20 &    35 \\\\\n",
      "                                           sonar &          61 &                       1 &          208 &          2 &       0 &                   97 &    40 \\\\\n",
      "                                           glass &          10 &                       1 &          214 &          6 &       0 &                    9 &    41 \\\\\n",
      "                                        haberman &           4 &                       2 &          306 &          2 &       0 &                   81 &    43 \\\\\n",
      "                                             tae &           6 &                       3 &          151 &          3 &       0 &                   49 &    48 \\\\\n",
      "                                         heart-c &          14 &                       8 &          303 &          2 &       7 &                  138 &    49 \\\\\n",
      "                                         heart-h &          14 &                       8 &          294 &          2 &     782 &                  106 &    51 \\\\\n",
      "                                   heart-statlog &          14 &                       1 &          270 &          2 &       0 &                  120 &    53 \\\\\n",
      "                                       hepatitis &          20 &                      14 &          155 &          2 &     167 &                   32 &    55 \\\\\n",
      "                                            vote &          17 &                      17 &          435 &          2 &     392 &                  168 &    56 \\\\\n",
      "                                      ionosphere &          35 &                       1 &          351 &          2 &       0 &                  126 &    59 \\\\\n",
      "                                            iris &           5 &                       1 &          150 &          3 &       0 &                   50 &    61 \\\\\n",
      "                                            wine &          14 &                       1 &          178 &          3 &       0 &                   48 &   187 \\\\\n",
      "                                           flags &          29 &                      27 &          194 &          8 &       0 &                    4 &   285 \\\\\n",
      "                                      hayes-roth &           5 &                       1 &          160 &          3 &       0 &                   31 &   329 \\\\\n",
      "                                monks-problems-1 &           7 &                       7 &          556 &          2 &       0 &                  278 &   333 \\\\\n",
      "                                monks-problems-2 &           7 &                       7 &          601 &          2 &       0 &                  206 &   334 \\\\\n",
      "                                monks-problems-3 &           7 &                       7 &          554 &          2 &       0 &                  266 &   335 \\\\\n",
      "                                           SPECT &          23 &                      23 &          267 &          2 &       0 &                   55 &   336 \\\\\n",
      "                                          SPECTF &          45 &                       1 &          349 &          2 &       0 &                   95 &   337 \\\\\n",
      "                                     grub-damage &           9 &                       7 &          155 &          4 &       0 &                   19 &   338 \\\\\n",
      "                               synthetic\\_control &          61 &                       1 &          600 &          6 &       0 &                  100 &   377 \\\\\n",
      "                                      prnn\\_crabs &           8 &                       2 &          200 &          2 &       0 &                  100 &   446 \\\\\n",
      "                             analcatdata\\_lawsuit &           5 &                       2 &          264 &          2 &       0 &                   19 &   450 \\\\\n",
      "                                           irish &           6 &                       4 &          500 &          2 &      32 &                  222 &   451 \\\\\n",
      "                        analcatdata\\_broadwaymult &           8 &                       5 &          285 &          7 &      27 &                   21 &   452 \\\\\n",
      "                            analcatdata\\_reviewer &           8 &                       8 &          379 &          4 &    1418 &                   54 &   460 \\\\\n",
      "                                        backache &          32 &                      27 &          180 &          2 &       0 &                   25 &   463 \\\\\n",
      "                                      prnn\\_synth &           3 &                       1 &          250 &          2 &       0 &                  125 &   464 \\\\\n",
      "                                          schizo &          15 &                       3 &          340 &          2 &     834 &                  163 &   466 \\\\\n",
      "                                           profb &          10 &                       5 &          672 &          2 &    1200 &                  224 &   470 \\\\\n",
      "                           analcatdata\\_germangss &           6 &                       5 &          400 &          4 &       0 &                  100 &   475 \\\\\n",
      "                                          biomed &           9 &                       2 &          209 &          2 &      15 &                   75 &   481 \\\\\n",
      "                                rmftsa\\_sleepdata &           3 &                       1 &         1024 &          4 &       0 &                   94 &   679 \\\\\n",
      "                                 diggle\\_table\\_a2 &           9 &                       1 &          310 &          9 &       0 &                   18 &   694 \\\\\n",
      "                                   rmftsa\\_ladata &          11 &                       1 &          508 &          2 &       0 &                  222 &   717 \\\\\n",
      "                                        pwLinear &          11 &                       1 &          200 &          2 &       0 &                   97 &   721 \\\\\n",
      "                            analcatdata\\_vineyard &           4 &                       2 &          468 &          2 &       0 &                  208 &   724 \\\\\n",
      "                                     machine\\_cpu &           7 &                       1 &          209 &          2 &       0 &                   56 &   733 \\\\\n",
      "                                         pharynx &          11 &                      10 &          195 &          2 &       2 &                   74 &   738 \\\\\n",
      "                                      auto\\_price &          16 &                       2 &          159 &          2 &       0 &                   54 &   745 \\\\\n",
      "                                           servo &           5 &                       5 &          167 &          2 &       0 &                   38 &   747 \\\\\n",
      "                             analcatdata\\_wildcat &           6 &                       3 &          163 &          2 &       0 &                   47 &   748 \\\\\n",
      "                                            pm10 &           8 &                       1 &          500 &          2 &       0 &                  246 &   750 \\\\\n",
      "                                       wisconsin &          33 &                       1 &          194 &          2 &       0 &                   90 &   753 \\\\\n",
      "                                       autoPrice &          16 &                       1 &          159 &          2 &       0 &                   54 &   756 \\\\\n",
      "                                            meta &          22 &                       3 &          528 &          2 &     504 &                   54 &   757 \\\\\n",
      "                              analcatdata\\_apnea3 &           4 &                       3 &          450 &          2 &       0 &                   55 &   764 \\\\\n",
      "                              analcatdata\\_apnea2 &           4 &                       3 &          475 &          2 &       0 &                   64 &   765 \\\\\n",
      "                              analcatdata\\_apnea1 &           4 &                       3 &          475 &          2 &       0 &                   61 &   767 \\\\\n",
      "                               disclosure\\_x\\_bias &           4 &                       1 &          662 &          2 &       0 &                  317 &   774 \\\\\n",
      "                                         bodyfat &          15 &                       1 &          252 &          2 &       0 &                  124 &   778 \\\\\n",
      "                                       cleveland &          14 &                       8 &          303 &          2 &       6 &                  139 &   786 \\\\\n",
      "                                       triazines &          61 &                       1 &          186 &          2 &       0 &                   77 &   788 \\\\\n",
      "                           disclosure\\_x\\_tampered &           4 &                       1 &          662 &          2 &       0 &                  327 &   795 \\\\\n",
      "                                             cpu &           8 &                       2 &          209 &          2 &       0 &                   53 &   796 \\\\\n",
      "                                     cholesterol &          14 &                       8 &          303 &          2 &       6 &                  137 &   798 \\\\\n",
      "                                   chscase\\_funds &           3 &                       1 &          185 &          2 &       0 &                   87 &   801 \\\\\n",
      "                                          pbcseq &          19 &                       7 &         1945 &          2 &    1133 &                  972 &   802 \\\\\n",
      "                                             pbc &          19 &                       9 &          418 &          2 &    1239 &                  188 &   810 \\\\\n",
      "                              rmftsa\\_ctoarrivals &           3 &                       2 &          264 &          2 &       0 &                  101 &   811 \\\\\n",
      "                                   chscase\\_vine2 &           3 &                       1 &          468 &          2 &       0 &                  212 &   814 \\\\\n",
      "                                     chatfield\\_4 &          13 &                       1 &          235 &          2 &       0 &                   93 &   820 \\\\\n",
      "                                boston\\_corrected &          21 &                       4 &          506 &          2 &       0 &                  223 &   825 \\\\\n",
      "                                         sensory &          12 &                      12 &          576 &          2 &       0 &                  239 &   826 \\\\\n",
      "                              disclosure\\_x\\_noise &           4 &                       1 &          662 &          2 &       0 &                  329 &   827 \\\\\n",
      "                                         autoMpg &           8 &                       4 &          398 &          2 &       6 &                  189 &   831 \\\\\n",
      "                               kdd\\_el\\_nino-small &           9 &                       3 &          782 &          2 &     466 &                  274 &   839 \\\\\n",
      "                                       autoHorse &          26 &                       9 &          205 &          2 &      57 &                   83 &   840 \\\\\n",
      "                                           stock &          10 &                       1 &          950 &          2 &       0 &                  462 &   841 \\\\\n",
      "                                     breastTumor &          10 &                       9 &          286 &          2 &       9 &                  120 &   844 \\\\\n",
      "                        analcatdata\\_gsssexsurvey &          10 &                       6 &          159 &          2 &       6 &                   35 &   852 \\\\\n",
      "                                          boston &          14 &                       2 &          506 &          2 &       0 &                  209 &   853 \\\\\n",
      "                                       fishcatch &           8 &                       3 &          158 &          2 &      87 &                   63 &   854 \\\\\n",
      "                                          vinnie &           3 &                       1 &          380 &          2 &       0 &                  185 &   860 \\\\\n",
      "                                           mu284 &          11 &                       1 &          284 &          2 &       0 &                  142 &   880 \\\\\n",
      "                                             no2 &           8 &                       1 &          500 &          2 &       0 &                  249 &   886 \\\\\n",
      "                                 chscase\\_geyser1 &           3 &                       1 &          222 &          2 &       0 &                   88 &   895 \\\\\n",
      "                                 chscase\\_census6 &           7 &                       1 &          400 &          2 &       0 &                  165 &   900 \\\\\n",
      "                                 chscase\\_census5 &           8 &                       1 &          400 &          2 &       0 &                  193 &   906 \\\\\n",
      "                                 chscase\\_census4 &           8 &                       1 &          400 &          2 &       0 &                  194 &   907 \\\\\n",
      "                                 chscase\\_census3 &           8 &                       1 &          400 &          2 &       0 &                  192 &   908 \\\\\n",
      "                                 chscase\\_census2 &           8 &                       1 &          400 &          2 &       0 &                  197 &   909 \\\\\n",
      "                                  plasma\\_retinol &          14 &                       4 &          315 &          2 &       0 &                  133 &   915 \\\\\n",
      "                              visualizing\\_galaxy &           5 &                       1 &          323 &          2 &       0 &                  148 &   925 \\\\\n",
      "                                 colleges\\_usnews &          34 &                       2 &         1302 &          2 &    7830 &                  614 &   930 \\\\\n",
      "                                    disclosure\\_z &           4 &                       1 &          662 &          2 &       0 &                  314 &   931 \\\\\n",
      "                                          socmob &           6 &                       5 &         1156 &          2 &       0 &                  256 &   934 \\\\\n",
      "                                   chscase\\_whale &           9 &                       1 &          228 &          2 &      20 &                  111 &   939 \\\\\n",
      "                                 water-treatment &          37 &                      16 &          527 &          2 &     542 &                   80 &   940 \\\\\n",
      "                                          lowbwt &          10 &                       8 &          189 &          2 &       0 &                   90 &   941 \\\\\n",
      "                          arsenic-female-bladder &           5 &                       2 &          559 &          2 &       0 &                   80 &   949 \\\\\n",
      "                          analcatdata\\_halloffame &          17 &                       2 &         1340 &          2 &      20 &                  125 &   966 \\\\\n",
      "                            analcatdata\\_birthday &           4 &                       3 &          365 &          2 &      30 &                   53 &   968 \\\\\n",
      "                               analcatdata\\_draft &           5 &                       3 &          366 &          2 &       1 &                   32 &   984 \\\\\n",
      "                                         collins &          23 &                       3 &          500 &          2 &       0 &                   80 &   987 \\\\\n",
      "                                     prnn\\_fglass &          10 &                       1 &          214 &          2 &       0 &                   76 &   996 \\\\\n",
      "                                   jEdit\\_4.2\\_4.3 &           9 &                       1 &          369 &          2 &       0 &                  165 &  1048 \\\\\n",
      "                                             mc2 &          40 &                       1 &          161 &          2 &       0 &                   52 &  1054 \\\\\n",
      "                                             mw1 &          38 &                       1 &          403 &          2 &       0 &                   31 &  1071 \\\\\n",
      "                                   jEdit\\_4.0\\_4.2 &           9 &                       1 &          274 &          2 &       0 &                  134 &  1073 \\\\\n",
      "                                     PopularKids &          11 &                       5 &          478 &          3 &       0 &                   90 &  1100 \\\\\n",
      "                               teachingAssistant &           7 &                       5 &          151 &          3 &       0 &                   49 &  1115 \\\\\n",
      "                             lungcancer\\_GSE31210 &          24 &                       3 &          226 &          2 &       0 &                   35 &  1412 \\\\\n",
      "                                       MegaWatt1 &          38 &                       1 &          253 &          2 &       0 &                   27 &  1442 \\\\\n",
      "                                    PizzaCutter1 &          38 &                       1 &          661 &          2 &       0 &                   52 &  1443 \\\\\n",
      "                                    PizzaCutter3 &          38 &                       1 &         1043 &          2 &       0 &                  127 &  1444 \\\\\n",
      "                                     CostaMadre1 &          38 &                       1 &          296 &          2 &       0 &                   38 &  1446 \\\\\n",
      "                                      CastMetal1 &          38 &                       1 &          327 &          2 &       0 &                   42 &  1447 \\\\\n",
      "                                   KnuggetChase3 &          40 &                       1 &          194 &          2 &       0 &                   36 &  1448 \\\\\n",
      "                                       PieChart1 &          38 &                       1 &          705 &          2 &       0 &                   61 &  1451 \\\\\n",
      "                                       PieChart3 &          38 &                       1 &         1077 &          2 &       0 &                  134 &  1453 \\\\\n",
      "                                      parkinsons &          23 &                       1 &          195 &          2 &       0 &                   48 &  1488 \\\\\n",
      "                                  planning-relax &          13 &                       1 &          182 &          2 &       0 &                   52 &  1490 \\\\\n",
      "                          qualitative-bankruptcy &           7 &                       7 &          250 &          2 &       0 &                  107 &  1495 \\\\\n",
      "                                        sa-heart &          10 &                       2 &          462 &          2 &       0 &                  160 &  1498 \\\\\n",
      "                                           seeds &           8 &                       1 &          210 &          3 &       0 &                   70 &  1499 \\\\\n",
      "                                thoracic-surgery &          17 &                      14 &          470 &          2 &       0 &                   70 &  1506 \\\\\n",
      "                                  user-knowledge &           6 &                       1 &          403 &          5 &       0 &                   24 &  1508 \\\\\n",
      "                             wholesale-customers &           9 &                       2 &          440 &          2 &       0 &                  142 &  1511 \\\\\n",
      "                                heart-long-beach &          14 &                       1 &          200 &          5 &       0 &                   10 &  1512 \\\\\n",
      "                              robot-failures-lp5 &          91 &                       1 &          164 &          5 &       0 &                   21 &  1520 \\\\\n",
      "                                 vertebra-column &           7 &                       1 &          310 &          3 &       0 &                   60 &  1523 \\\\\n",
      "Smartphone-Based\\_Recognition\\_of\\_Human\\_Activities &          68 &                       2 &          180 &          6 &       0 &                   30 &  4153 \\\\\n",
      " breast-cancer-dropped-missing-attributes-values &          10 &                      10 &          277 &          2 &       0 &                   81 & 23499 \\\\\n",
      "                       LED-display-domain-7digit &           8 &                       1 &          500 &         10 &       0 &                   37 & 40496 \\\\\n",
      "     GAMETES\\_Epistasis\\_2-Way\\_20atts\\_0.1H\\_EDM-1\\_1 &          21 &                      21 &         1600 &          2 &       0 &                  800 & 40646 \\\\\n",
      "                                     calendarDOW &          33 &                      21 &          399 &          5 &       0 &                   44 & 40663 \\\\\n",
      "                                          corral &           7 &                       7 &          160 &          2 &       0 &                   70 & 40669 \\\\\n",
      "                                     mofn-3-7-10 &          11 &                      11 &         1324 &          2 &       0 &                  292 & 40680 \\\\\n",
      "                                     thyroid-new &           6 &                       1 &          215 &          3 &       0 &                   30 & 40682 \\\\\n",
      "                                     solar-flare &          13 &                      13 &          315 &          5 &       0 &                   21 & 40686 \\\\\n",
      "                                        threeOf9 &          10 &                      10 &          512 &          2 &       0 &                  238 & 40690 \\\\\n",
      "                                             xd6 &          10 &                      10 &          973 &          2 &       0 &                  322 & 40693 \\\\\n",
      "                                          tokyo1 &          45 &                       3 &          959 &          2 &       0 &                  346 & 40705 \\\\\n",
      "                                  parity5\\_plus\\_5 &          11 &                      11 &         1124 &          2 &       0 &                  557 & 40706 \\\\\n",
      "                                           cleve &          14 &                       9 &          303 &          2 &       0 &                  138 & 40710 \\\\\n",
      "                               cleveland-nominal &           8 &                       8 &          303 &          5 &       0 &                   13 & 40711 \\\\\n",
      "                                      Australian &          15 &                       9 &          690 &          2 &       0 &                  307 & 40981 \\\\\n",
      "                                DiabeticMellitus &          98 &                       1 &          281 &          2 &       2 &                   99 & 41430 \\\\\n",
      "                           conference\\_attendance &           7 &                       7 &          246 &          2 &       0 &                   31 & 41538 \\\\\n",
      "                CPMP-2015-runtime-classification &          23 &                       1 &          527 &          4 &       0 &                   78 & 41919 \\\\\n",
      "                                      TuningSVMs &          81 &                       1 &          156 &          2 &       0 &                   54 & 41976 \\\\\n",
      "                              regime\\_alimentaire &          20 &                      17 &          202 &          2 &      17 &                   41 & 42172 \\\\\n",
      "                                    iris-example &           5 &                       1 &          150 &          3 &       0 &                   50 & 42261 \\\\\n",
      "                                          Touch2 &          11 &                       1 &          265 &          8 &       0 &                   27 & 42544 \\\\\n",
      "                                        penguins &           7 &                       3 &          344 &          3 &      18 &                   68 & 42585 \\\\\n",
      "                                         titanic &           8 &                       5 &          891 &          2 &     689 &                  342 & 42638 \\\\\n",
      "\\bottomrule\n",
      "\\end{tabular}\n",
      "\n"
     ]
    }
   ],
   "source": [
    "print_table = openml_list\n",
    "print_table = print_table[['name', 'NumberOfFeatures', 'NumberOfSymbolicFeatures', 'NumberOfInstances', 'NumberOfClasses', 'NumberOfMissingValues', 'MinorityClassSize']].copy()\n",
    "print_table['id'] = print_table.index\n",
    "print_table[['NumberOfFeatures', 'NumberOfSymbolicFeatures', 'NumberOfInstances', 'NumberOfClasses', 'NumberOfMissingValues', 'MinorityClassSize']] = print_table[['NumberOfFeatures', 'NumberOfSymbolicFeatures', 'NumberOfInstances', 'NumberOfClasses', 'NumberOfMissingValues', 'MinorityClassSize']].astype(int)\n",
    "print_table = print_table.rename(columns=renamer)\n",
    "print(print_table.to_latex(index=False))"
   ]
  }
 ],
 "metadata": {
  "kernelspec": {
   "display_name": "Python 3 (ipykernel)",
   "language": "python",
   "name": "python3"
  },
  "language_info": {
   "codemirror_mode": {
    "name": "ipython",
    "version": 3
   },
   "file_extension": ".py",
   "mimetype": "text/x-python",
   "name": "python",
   "nbconvert_exporter": "python",
   "pygments_lexer": "ipython3",
   "version": "3.9.6"
  }
 },
 "nbformat": 4,
 "nbformat_minor": 4
}
